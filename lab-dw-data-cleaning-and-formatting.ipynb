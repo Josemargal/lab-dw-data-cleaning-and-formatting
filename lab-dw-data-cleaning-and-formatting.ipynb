{
  "cells": [
    {
      "cell_type": "markdown",
      "id": "25d7736c-ba17-4aff-b6bb-66eba20fbf4e",
      "metadata": {
        "id": "25d7736c-ba17-4aff-b6bb-66eba20fbf4e"
      },
      "source": [
        "# Lab | Data Cleaning and Formatting"
      ]
    },
    {
      "cell_type": "markdown",
      "id": "d1973e9e-8be6-4039-b70e-d73ee0d94c99",
      "metadata": {
        "id": "d1973e9e-8be6-4039-b70e-d73ee0d94c99"
      },
      "source": [
        "In this lab, we will be working with the customer data from an insurance company, which can be found in the CSV file located at the following link: https://raw.githubusercontent.com/data-bootcamp-v4/data/main/file1.csv\n"
      ]
    },
    {
      "cell_type": "markdown",
      "id": "31b8a9e7-7db9-4604-991b-ef6771603e57",
      "metadata": {
        "id": "31b8a9e7-7db9-4604-991b-ef6771603e57"
      },
      "source": [
        "# Challenge 1: Data Cleaning and Formatting"
      ]
    },
    {
      "cell_type": "markdown",
      "id": "81553f19-9f2c-484b-8940-520aff884022",
      "metadata": {
        "id": "81553f19-9f2c-484b-8940-520aff884022"
      },
      "source": [
        "## Exercise 1: Cleaning Column Names"
      ]
    },
    {
      "cell_type": "markdown",
      "id": "34a929f4-1be4-4fa8-adda-42ffd920be90",
      "metadata": {
        "id": "34a929f4-1be4-4fa8-adda-42ffd920be90"
      },
      "source": [
        "To ensure consistency and ease of use, standardize the column names of the dataframe. Start by taking a first look at the dataframe and identifying any column names that need to be modified. Use appropriate naming conventions and make sure that column names are descriptive and informative.\n",
        "\n",
        "*Hint*:\n",
        "- *Column names should be in lower case*\n",
        "- *White spaces in column names should be replaced by `_`*\n",
        "- *`st` could be replaced for `state`*"
      ]
    },
    {
      "cell_type": "code",
      "execution_count": null,
      "id": "5810735c-8056-4442-bbf2-dda38d3e284a",
      "metadata": {
        "id": "5810735c-8056-4442-bbf2-dda38d3e284a"
      },
      "outputs": [],
      "source": [
        "import pandas as pd\n",
        "\n",
        "# Step 1: Load the CSV file into a DataFrame\n",
        "url = \"https://raw.githubusercontent.com/data-bootcamp-v4/data/main/file1.csv\"\n",
        "df = pd.read_csv(url)\n",
        "\n",
        "# Step 2: View the column names\n",
        "print(\"Original Column Names:\")\n",
        "print(df.columns)\n",
        "\n",
        "# Step 3: Rename the columns using appropriate naming conventions\n",
        "# Convert to lower case, replace white spaces with underscores, and replace 'st' with 'state'\n",
        "\n",
        "df.columns = [col.lower().replace(' ', '_').replace('st', 'state') for col in df.columns]\n",
        "\n",
        "# Verify the changes\n",
        "print(\"\\nCleaned Column Names:\")\n",
        "print(df.columns)"
      ]
    },
    {
      "cell_type": "markdown",
      "id": "9cb501ec-36ff-4589-b872-6252bb150316",
      "metadata": {
        "id": "9cb501ec-36ff-4589-b872-6252bb150316"
      },
      "source": [
        "## Exercise 2: Cleaning invalid Values"
      ]
    },
    {
      "cell_type": "markdown",
      "id": "771fdcf3-8e20-4b06-9c24-3a93ba2b0909",
      "metadata": {
        "id": "771fdcf3-8e20-4b06-9c24-3a93ba2b0909"
      },
      "source": [
        "The dataset contains columns with inconsistent and incorrect values that could affect the accuracy of our analysis. Therefore, we need to clean these columns to ensure that they only contain valid data.\n",
        "\n",
        "Note that this exercise will focus only on cleaning inconsistent values and will not involve handling null values (NaN or None).\n",
        "\n",
        "*Hint*:\n",
        "- *Gender column contains various inconsistent values such as \"F\", \"M\", \"Femal\", \"Male\", \"female\", which need to be standardized, for example, to \"M\" and \"F\".*\n",
        "- *State abbreviations be can replaced with its full name, for example \"AZ\": \"Arizona\", \"Cali\": \"California\", \"WA\": \"Washington\"*\n",
        "- *In education, \"Bachelors\" could be replaced by \"Bachelor\"*\n",
        "- *In Customer Lifetime Value, delete the `%` character*\n",
        "- *In vehicle class, \"Sports Car\", \"Luxury SUV\" and \"Luxury Car\" could be replaced by \"Luxury\"*"
      ]
    },
    {
      "cell_type": "code",
      "execution_count": null,
      "id": "3f8ee5cb-50ab-48af-8a9f-9a389804033c",
      "metadata": {
        "id": "3f8ee5cb-50ab-48af-8a9f-9a389804033c"
      },
      "outputs": [],
      "source": [
        "import pandas as pd\n",
        "\n",
        "# Step 1: Load the data\n",
        "url = \"https://raw.githubusercontent.com/data-bootcamp-v4/data/main/file1.csv\"\n",
        "df = pd.read_csv(url)\n",
        "\n",
        "# Step 2: Inspect column names\n",
        "print(\"Column names in the DataFrame:\")\n",
        "print(df.columns)\n",
        "\n",
        "# Step 3: Convert column names to standard format\n",
        "df.columns = [col.strip().lower().replace(' ', '_') for col in df.columns]\n",
        "print(\"\\nStandardized Column names in the DataFrame:\")\n",
        "print(df.columns)\n",
        "\n",
        "# Step 4: Standardize Gender values\n",
        "df['gender'] = df['gender'].replace({\n",
        "    'female': 'F', 'femal': 'F', 'f': 'F',\n",
        "    'male': 'M', 'm': 'M'\n",
        "})\n",
        "\n",
        "# Step 5: Replace state abbreviations\n",
        "state_mapping = {\n",
        "    'st': {'az': 'Arizona', 'cali': 'California', 'wa': 'Washington'}\n",
        "}\n",
        "df['st'] = df['st'].str.lower().replace(state_mapping['st'])\n",
        "\n",
        "# Step 6: Standardize Education values\n",
        "df['education'] = df['education'].replace({\n",
        "    'bachelors': 'Bachelor'\n",
        "})\n",
        "\n",
        "# Step 7: Remove '%' character from `customer_lifetime_value`\n",
        "df['customer_lifetime_value'] = df['customer_lifetime_value'].str.replace('%', '')\n",
        "df['customer_lifetime_value'] = df['customer_lifetime_value'].astype(float)\n",
        "\n",
        "# Step 8: Standardize Vehicle Class values\n",
        "vehicle_class_mapping = {\n",
        "    'sports_car': 'Luxury',\n",
        "    'luxury_suv': 'Luxury',\n",
        "    'luxury_car': 'Luxury'\n",
        "}\n",
        "df['vehicle_class'] = df['vehicle_class'].replace(vehicle_class_mapping)\n",
        "\n",
        "# Verify the changes\n",
        "print(df.head())"
      ]
    },
    {
      "cell_type": "markdown",
      "id": "85ff78ce-0174-4890-9db3-8048b7d7d2d0",
      "metadata": {
        "id": "85ff78ce-0174-4890-9db3-8048b7d7d2d0"
      },
      "source": [
        "## Exercise 3: Formatting data types"
      ]
    },
    {
      "cell_type": "markdown",
      "id": "b91c2cf8-79a2-4baf-9f65-ff2fb22270bd",
      "metadata": {
        "id": "b91c2cf8-79a2-4baf-9f65-ff2fb22270bd"
      },
      "source": [
        "The data types of many columns in the dataset appear to be incorrect. This could impact the accuracy of our analysis. To ensure accurate analysis, we need to correct the data types of these columns. Please update the data types of the columns as appropriate."
      ]
    },
    {
      "cell_type": "markdown",
      "id": "43e5d853-ff9e-43b2-9d92-aef2f78764f3",
      "metadata": {
        "id": "43e5d853-ff9e-43b2-9d92-aef2f78764f3"
      },
      "source": [
        "It is important to note that this exercise does not involve handling null values (NaN or None)."
      ]
    },
    {
      "cell_type": "markdown",
      "id": "329ca691-9196-4419-8969-3596746237a1",
      "metadata": {
        "id": "329ca691-9196-4419-8969-3596746237a1"
      },
      "source": [
        "*Hint*:\n",
        "- *Customer lifetime value should be numeric*\n",
        "- *Number of open complaints has an incorrect format. Look at the different values it takes with `unique()` and take the middle value. As an example, 1/5/00 should be 5. Number of open complaints is a string - remember you can use `split()` to deal with it and take the number you need. Finally, since it should be numeric, cast the column to be in its proper type.*"
      ]
    },
    {
      "cell_type": "code",
      "execution_count": 1,
      "id": "eb8f5991-73e9-405f-bf1c-6b7c589379a9",
      "metadata": {
        "id": "eb8f5991-73e9-405f-bf1c-6b7c589379a9"
      },
      "outputs": [
        {
          "name": "stdout",
          "output_type": "stream",
          "text": [
            "customer                      object\n",
            "st                            object\n",
            "gender                        object\n",
            "education                     object\n",
            "customer_lifetime_value      float64\n",
            "income                       float64\n",
            "monthly_premium_auto         float64\n",
            "number_of_open_complaints      int32\n",
            "policy_type                   object\n",
            "vehicle_class                 object\n",
            "total_claim_amount           float64\n",
            "dtype: object\n",
            "  customer          st gender             education  customer_lifetime_value  \\\n",
            "0  RB50392  washington    NaN                Master                      NaN   \n",
            "1  QZ44356     arizona      F              Bachelor                697953.59   \n",
            "2  AI49188      nevada      F              Bachelor               1288743.17   \n",
            "3  WW63253  california      M              Bachelor                764586.18   \n",
            "4  GA49547  washington      M  High School or Below                536307.65   \n",
            "\n",
            "    income  monthly_premium_auto  number_of_open_complaints     policy_type  \\\n",
            "0      0.0                1000.0                          0   Personal Auto   \n",
            "1      0.0                  94.0                          0   Personal Auto   \n",
            "2  48767.0                 108.0                          0   Personal Auto   \n",
            "3      0.0                 106.0                          0  Corporate Auto   \n",
            "4  36357.0                  68.0                          0   Personal Auto   \n",
            "\n",
            "   vehicle_class  total_claim_amount  \n",
            "0  Four-Door Car            2.704934  \n",
            "1  Four-Door Car         1131.464935  \n",
            "2   Two-Door Car          566.472247  \n",
            "3            SUV          529.881344  \n",
            "4  Four-Door Car           17.269323  \n"
          ]
        }
      ],
      "source": [
        "import pandas as pd\n",
        "\n",
        "# Cargar los datos\n",
        "url = \"https://raw.githubusercontent.com/data-bootcamp-v4/data/main/file1.csv\"\n",
        "df = pd.read_csv(url)\n",
        "\n",
        "# Convertir nombres de columnas a formato estandarizado\n",
        "df.columns = [col.strip().lower().replace(' ', '_') for col in df.columns]\n",
        "\n",
        "# Estandarizar valores de género\n",
        "df['gender'] = df['gender'].replace({\n",
        "    'female': 'F', 'femal': 'F', 'f': 'F',\n",
        "    'male': 'M', 'm': 'M'\n",
        "})\n",
        "\n",
        "# Reemplazar abreviaturas de estados\n",
        "state_mapping = {\n",
        "    'st': {'az': 'Arizona', 'cali': 'California', 'wa': 'Washington'}\n",
        "}\n",
        "df['st'] = df['st'].str.lower().replace(state_mapping['st'])\n",
        "\n",
        "# Estandarizar valores de educación\n",
        "df['education'] = df['education'].replace({\n",
        "    'bachelors': 'Bachelor'\n",
        "})\n",
        "\n",
        "# Eliminar el carácter % de `customer_lifetime_value`\n",
        "df['customer_lifetime_value'] = df['customer_lifetime_value'].str.replace('%', '')\n",
        "df['customer_lifetime_value'] = df['customer_lifetime_value'].astype(float)\n",
        "\n",
        "# Estandarizar valores de clase de vehículo\n",
        "vehicle_class_mapping = {\n",
        "    'sports_car': 'Luxury',\n",
        "    'luxury_suv': 'Luxury',\n",
        "    'luxury_car': 'Luxury'\n",
        "}\n",
        "df['vehicle_class'] = df['vehicle_class'].replace(vehicle_class_mapping)\n",
        "\n",
        "# Corregir formato de `number_of_open_complaints`\n",
        "# Rellenar NaN temporariamente para convertir\n",
        "df['number_of_open_complaints'] = df['number_of_open_complaints'].str.split('/').str[1].fillna(0).astype(int)\n",
        "\n",
        "# Verificar los cambios\n",
        "print(df.dtypes)\n",
        "print(df.head())"
      ]
    },
    {
      "cell_type": "markdown",
      "id": "14c52e28-2d0c-4dd2-8bd5-3476e34fadc1",
      "metadata": {
        "id": "14c52e28-2d0c-4dd2-8bd5-3476e34fadc1"
      },
      "source": [
        "## Exercise 4: Dealing with Null values"
      ]
    },
    {
      "cell_type": "markdown",
      "id": "34b9a20f-7d32-4417-975e-1b4dfb0e16cd",
      "metadata": {
        "id": "34b9a20f-7d32-4417-975e-1b4dfb0e16cd"
      },
      "source": [
        "Identify any columns with null or missing values. Identify how many null values each column has. You can use the `isnull()` function in pandas to find columns with null values.\n",
        "\n",
        "Decide on a strategy for handling the null values. There are several options, including:\n",
        "\n",
        "- Drop the rows or columns with null values\n",
        "- Fill the null values with a specific value (such as the column mean or median for numerical variables, and mode for categorical variables)\n",
        "- Fill the null values with the previous or next value in the column\n",
        "- Fill the null values based on a more complex algorithm or model (note: we haven't covered this yet)\n",
        "\n",
        "Implement your chosen strategy to handle the null values. You can use the `fillna()` function in pandas to fill null values or `dropna()` function to drop null values.\n",
        "\n",
        "Verify that your strategy has successfully handled the null values. You can use the `isnull()` function again to check if there are still null values in the dataset.\n",
        "\n",
        "Remember to document your process and explain your reasoning for choosing a particular strategy for handling null values.\n",
        "\n",
        "After formatting data types, as a last step, convert all the numeric variables to integers."
      ]
    },
    {
      "cell_type": "code",
      "execution_count": 2,
      "id": "f184fc35-7831-4836-a0a5-e7f99e01b40e",
      "metadata": {
        "id": "f184fc35-7831-4836-a0a5-e7f99e01b40e"
      },
      "outputs": [
        {
          "name": "stdout",
          "output_type": "stream",
          "text": [
            "Número de valores nulos en cada columna:\n",
            "customer                     2937\n",
            "st                           2937\n",
            "gender                       3054\n",
            "education                    2937\n",
            "customer_lifetime_value      2940\n",
            "income                       2937\n",
            "monthly_premium_auto         2937\n",
            "number_of_open_complaints       0\n",
            "policy_type                  2937\n",
            "vehicle_class                2937\n",
            "total_claim_amount           2937\n",
            "dtype: int64\n",
            "Número de valores nulos en cada columna después de manejar los nulos:\n",
            "customer                     0\n",
            "st                           0\n",
            "gender                       0\n",
            "education                    0\n",
            "customer_lifetime_value      0\n",
            "income                       0\n",
            "monthly_premium_auto         0\n",
            "number_of_open_complaints    0\n",
            "policy_type                  0\n",
            "vehicle_class                0\n",
            "total_claim_amount           0\n",
            "dtype: int64\n",
            "\n",
            "Tipos de datos después de la conversión:\n",
            "customer                     object\n",
            "st                           object\n",
            "gender                       object\n",
            "education                    object\n",
            "customer_lifetime_value       int32\n",
            "income                        int32\n",
            "monthly_premium_auto          int32\n",
            "number_of_open_complaints     int32\n",
            "policy_type                  object\n",
            "vehicle_class                object\n",
            "total_claim_amount            int32\n",
            "dtype: object\n",
            "  customer          st gender             education  customer_lifetime_value  \\\n",
            "0  RB50392  washington      F                Master                   793690   \n",
            "1  QZ44356     arizona      F              Bachelor                   697953   \n",
            "2  AI49188      nevada      F              Bachelor                  1288743   \n",
            "3  WW63253  california      M              Bachelor                   764586   \n",
            "4  GA49547  washington      M  High School or Below                   536307   \n",
            "\n",
            "   income  monthly_premium_auto  number_of_open_complaints     policy_type  \\\n",
            "0       0                  1000                          0   Personal Auto   \n",
            "1       0                    94                          0   Personal Auto   \n",
            "2   48767                   108                          0   Personal Auto   \n",
            "3       0                   106                          0  Corporate Auto   \n",
            "4   36357                    68                          0   Personal Auto   \n",
            "\n",
            "   vehicle_class  total_claim_amount  \n",
            "0  Four-Door Car                   2  \n",
            "1  Four-Door Car                1131  \n",
            "2   Two-Door Car                 566  \n",
            "3            SUV                 529  \n",
            "4  Four-Door Car                  17  \n"
          ]
        }
      ],
      "source": [
        "import pandas as pd\n",
        "\n",
        "# Cargar los datos\n",
        "url = \"https://raw.githubusercontent.com/data-bootcamp-v4/data/main/file1.csv\"\n",
        "df = pd.read_csv(url)\n",
        "\n",
        "# Convertir nombres de columnas a formato estandarizado\n",
        "df.columns = [col.strip().lower().replace(' ', '_') for col in df.columns]\n",
        "\n",
        "# Estandarizar valores de género\n",
        "df['gender'] = df['gender'].replace({\n",
        "    'female': 'F', 'femal': 'F', 'f': 'F',\n",
        "    'male': 'M', 'm': 'M'\n",
        "})\n",
        "\n",
        "# Reemplazar abreviaturas de estados\n",
        "state_mapping = {\n",
        "    'st': {'az': 'Arizona', 'cali': 'California', 'wa': 'Washington'}\n",
        "}\n",
        "df['st'] = df['st'].str.lower().replace(state_mapping['st'])\n",
        "\n",
        "# Estandarizar valores de educación\n",
        "df['education'] = df['education'].replace({\n",
        "    'bachelors': 'Bachelor'\n",
        "})\n",
        "\n",
        "# Eliminar el carácter % de `customer_lifetime_value`\n",
        "df['customer_lifetime_value'] = df['customer_lifetime_value'].str.replace('%', '')\n",
        "df['customer_lifetime_value'] = df['customer_lifetime_value'].astype(float)\n",
        "\n",
        "# Estandarizar valores de clase de vehículo\n",
        "vehicle_class_mapping = {\n",
        "    'sports_car': 'Luxury',\n",
        "    'luxury_suv': 'Luxury',\n",
        "    'luxury_car': 'Luxury'\n",
        "}\n",
        "df['vehicle_class'] = df['vehicle_class'].replace(vehicle_class_mapping)\n",
        "\n",
        "# Corregir formato de `number_of_open_complaints`\n",
        "df['number_of_open_complaints'] = df['number_of_open_complaints'].str.split('/').str[1].fillna(0).astype(int)\n",
        "\n",
        "# Identificar columnas con valores nulos\n",
        "null_counts = df.isnull().sum()\n",
        "print(\"Número de valores nulos en cada columna:\")\n",
        "print(null_counts)\n",
        "\n",
        "# Elegir estrategia de manejo de valores nulos\n",
        "# Rellenar numéricos con la media\n",
        "numerical_columns = df.select_dtypes(include=['float64', 'int']).columns\n",
        "for column in numerical_columns:\n",
        "    df[column] = df[column].fillna(df[column].mean())\n",
        "\n",
        "# Rellenar categóricos con la moda\n",
        "categorical_columns = df.select_dtypes(include=['object']).columns\n",
        "for column in categorical_columns:\n",
        "    df[column] = df[column].fillna(df[column].mode()[0])\n",
        "\n",
        "# Verificar si hay valores nulos restantes\n",
        "null_counts_post = df.isnull().sum()\n",
        "print(\"Número de valores nulos en cada columna después de manejar los nulos:\")\n",
        "print(null_counts_post)\n",
        "\n",
        "\n",
        "# Convertir todas las variables numéricas a enteros\n",
        "df[numerical_columns] = df[numerical_columns].astype(int)\n",
        "\n",
        "# Verificar los tipos de datos\n",
        "print(\"\\nTipos de datos después de la conversión:\")\n",
        "print(df.dtypes)\n",
        "print(df.head())"
      ]
    },
    {
      "cell_type": "markdown",
      "id": "98416351-e999-4156-9834-9b00a311adfa",
      "metadata": {
        "id": "98416351-e999-4156-9834-9b00a311adfa"
      },
      "source": [
        "## Exercise 5: Dealing with duplicates"
      ]
    },
    {
      "cell_type": "markdown",
      "id": "ea0816a7-a18e-4d4c-b667-a8452a800bd1",
      "metadata": {
        "id": "ea0816a7-a18e-4d4c-b667-a8452a800bd1"
      },
      "source": [
        "Use the `.duplicated()` method to identify any duplicate rows in the dataframe.\n",
        "\n",
        "Decide on a strategy for handling the duplicates. Options include:\n",
        "- Dropping all duplicate rows\n",
        "- Keeping only the first occurrence of each duplicated row\n",
        "- Keeping only the last occurrence of each duplicated row\n",
        "- Dropping duplicates based on a subset of columns\n",
        "- Dropping duplicates based on a specific column\n",
        "\n",
        "Implement your chosen strategy using the `drop_duplicates()` function.\n",
        "\n",
        "Verify that your strategy has successfully handled the duplicates by checking for duplicates again using `.duplicated()`.\n",
        "\n",
        "Remember to document your process and explain your reasoning for choosing a particular strategy for handling duplicates.\n",
        "\n",
        "Save the cleaned dataset to a new CSV file.\n",
        "\n",
        "*Hint*: *after dropping duplicates, reset the index to ensure consistency*."
      ]
    },
    {
      "cell_type": "code",
      "execution_count": 3,
      "id": "1929362c-47ed-47cb-baca-358b78d401a0",
      "metadata": {
        "id": "1929362c-47ed-47cb-baca-358b78d401a0"
      },
      "outputs": [
        {
          "name": "stdout",
          "output_type": "stream",
          "text": [
            "Número de filas duplicadas: 2936\n",
            "Número de filas duplicadas después de limpieza: 0\n",
            "Número de filas totales después de limpieza: 1072\n",
            "  customer          st gender             education customer_lifetime_value  \\\n",
            "0  RB50392  Washington    NaN                Master                     NaN   \n",
            "1  QZ44356     Arizona      F              Bachelor              697953.59%   \n",
            "2  AI49188      Nevada      F              Bachelor             1288743.17%   \n",
            "3  WW63253  California      M              Bachelor              764586.18%   \n",
            "4  GA49547  Washington      M  High School or Below              536307.65%   \n",
            "\n",
            "    income  monthly_premium_auto number_of_open_complaints     policy_type  \\\n",
            "0      0.0                1000.0                    1/0/00   Personal Auto   \n",
            "1      0.0                  94.0                    1/0/00   Personal Auto   \n",
            "2  48767.0                 108.0                    1/0/00   Personal Auto   \n",
            "3      0.0                 106.0                    1/0/00  Corporate Auto   \n",
            "4  36357.0                  68.0                    1/0/00   Personal Auto   \n",
            "\n",
            "   vehicle_class  total_claim_amount  \n",
            "0  Four-Door Car            2.704934  \n",
            "1  Four-Door Car         1131.464935  \n",
            "2   Two-Door Car          566.472247  \n",
            "3            SUV          529.881344  \n",
            "4  Four-Door Car           17.269323  \n"
          ]
        }
      ],
      "source": [
        "import pandas as pd\n",
        "\n",
        "# Paso previo: asegurarnos que el DataFrame está en el estado esperado\n",
        "url = \"https://raw.githubusercontent.com/data-bootcamp-v4/data/main/file1.csv\"\n",
        "df = pd.read_csv(url)\n",
        "\n",
        "# Convertir nombres de columnas a formato estándar (si no se hizo antes)\n",
        "df.columns = [col.strip().lower().replace(' ', '_') for col in df.columns]\n",
        "\n",
        "# Limpieza previa (si ya se ha hecho se puede omitir)\n",
        "# ... código de la limpieza previa omitido por brevedad ...\n",
        "\n",
        "# Identificar filas duplicadas\n",
        "duplicated_rows = df.duplicated()\n",
        "print(\"Número de filas duplicadas:\", duplicated_rows.sum())\n",
        "\n",
        "# Eliminar filas duplicadas, manteniendo solo la primera ocurrencia\n",
        "df_cleaned = df.drop_duplicates(keep='first')\n",
        "\n",
        "# Verificar si hay filas duplicadas restantes\n",
        "post_duplicated_rows = df_cleaned.duplicated()\n",
        "print(\"Número de filas duplicadas después de limpieza:\", post_duplicated_rows.sum())\n",
        "\n",
        "# Reiniciar el índice\n",
        "df_cleaned.reset_index(drop=True, inplace=True)\n",
        "\n",
        "# Guardar el DataFrame limpio en un nuevo archivo CSV\n",
        "df_cleaned.to_csv('cleaned_data.csv', index=False)\n",
        "\n",
        "# Verificación final\n",
        "print(\"Número de filas totales después de limpieza:\", len(df_cleaned))\n",
        "print(df_cleaned.head())"
      ]
    },
    {
      "cell_type": "markdown",
      "id": "60840701-4783-40e2-b4d8-55303f9100c9",
      "metadata": {
        "id": "60840701-4783-40e2-b4d8-55303f9100c9"
      },
      "source": [
        "# Bonus: Challenge 2: creating functions on a separate `py` file"
      ]
    },
    {
      "cell_type": "markdown",
      "id": "9d1adb3a-17cf-4899-8041-da21a4337fb4",
      "metadata": {
        "id": "9d1adb3a-17cf-4899-8041-da21a4337fb4"
      },
      "source": [
        "Put all the data cleaning and formatting steps into functions, and create a main function that performs all the cleaning and formatting.\n",
        "\n",
        "Write these functions in separate .py file(s). By putting these steps into functions, we can make the code more modular and easier to maintain."
      ]
    },
    {
      "cell_type": "markdown",
      "id": "0e170dc2-b62c-417a-8248-e63ed18a70c4",
      "metadata": {
        "id": "0e170dc2-b62c-417a-8248-e63ed18a70c4"
      },
      "source": [
        "*Hint: autoreload module is a utility module in Python that allows you to automatically reload modules in the current session when changes are made to the source code. This can be useful in situations where you are actively developing code and want to see the effects of changes you make without having to constantly restart the Python interpreter or Jupyter Notebook kernel.*"
      ]
    },
    {
      "cell_type": "code",
      "execution_count": 4,
      "id": "a52c6dfc-cd11-4d01-bda4-f719fa33e9a4",
      "metadata": {
        "id": "a52c6dfc-cd11-4d01-bda4-f719fa33e9a4"
      },
      "outputs": [
        {
          "name": "stdout",
          "output_type": "stream",
          "text": [
            "Limpieza completada y datos guardados en 'cleaned_data.csv'\n"
          ]
        }
      ],
      "source": [
        "# Jupyter Notebook\n",
        "%load_ext autoreload\n",
        "%autoreload 2\n",
        "\n",
        "import cleaning\n",
        "\n",
        "url = \"https://raw.githubusercontent.com/data-bootcamp-v4/data/main/file1.csv\"\n",
        "cleaned_df = cleaning.main(url)\n",
        "cleaned_df.to_csv('cleaned_data.csv', index=False)\n",
        "\n",
        "print(\"Limpieza completada y datos guardados en 'cleaned_data.csv'\")"
      ]
    },
    {
      "cell_type": "markdown",
      "id": "80f846bb-3f5e-4ca2-96c0-900728daca5a",
      "metadata": {
        "id": "80f846bb-3f5e-4ca2-96c0-900728daca5a",
        "tags": []
      },
      "source": [
        "# Bonus: Challenge 3: Analyzing Clean and Formated Data"
      ]
    },
    {
      "cell_type": "markdown",
      "id": "9021630e-cc90-446c-b5bd-264d6c864207",
      "metadata": {
        "id": "9021630e-cc90-446c-b5bd-264d6c864207"
      },
      "source": [
        "You have been tasked with analyzing the data to identify potential areas for improving customer retention and profitability. Your goal is to identify customers with a high policy claim amount and a low customer lifetime value.\n",
        "\n",
        "In the Pandas Lab, we only looked at high policy claim amounts because we couldn't look into low customer lifetime values. If we had tried to work with that column, we wouldn't have been able to because customer lifetime value wasn't clean and in its proper format. So after cleaning and formatting the data, let's get some more interesting insights!\n",
        "\n",
        "Instructions:\n",
        "\n",
        "- Review the statistics again for total claim amount and customer lifetime value to gain an understanding of the data.\n",
        "- To identify potential areas for improving customer retention and profitability, we want to focus on customers with a high policy claim amount and a low customer lifetime value. Consider customers with a high policy claim amount to be those in the top 25% of the total claim amount, and clients with a low customer lifetime value to be those in the bottom 25% of the customer lifetime value. Create a pandas DataFrame object that contains information about customers with a policy claim amount greater than the 75th percentile and a customer lifetime value in the bottom 25th percentile.\n",
        "- Use DataFrame methods to calculate summary statistics about the high policy claim amount and low customer lifetime value data. To do so, select both columns of the dataframe simultaneously and pass it to the `.describe()` method. This will give you descriptive statistics, such as mean, median, standard deviation, minimum and maximum values for both columns at the same time, allowing you to compare and analyze their characteristics."
      ]
    },
    {
      "cell_type": "code",
      "execution_count": 5,
      "id": "211e82b5-461a-4d6f-8a23-4deccb84173c",
      "metadata": {
        "id": "211e82b5-461a-4d6f-8a23-4deccb84173c"
      },
      "outputs": [
        {
          "name": "stdout",
          "output_type": "stream",
          "text": [
            "Estadísticas descriptivas para 'total_claim_amount':\n",
            "count    1072.000000\n",
            "mean      404.527985\n",
            "std       292.905011\n",
            "min         0.000000\n",
            "25%       201.750000\n",
            "50%       354.500000\n",
            "75%       532.000000\n",
            "max      2893.000000\n",
            "Name: total_claim_amount, dtype: float64\n",
            "\n",
            "Estadísticas descriptivas para 'customer_lifetime_value':\n",
            "count    1.072000e+03\n",
            "mean     7.936898e+05\n",
            "std      6.422756e+05\n",
            "min      2.004350e+05\n",
            "25%      4.054045e+05\n",
            "50%      5.888340e+05\n",
            "75%      8.937668e+05\n",
            "max      5.816655e+06\n",
            "Name: customer_lifetime_value, dtype: float64\n",
            "\n",
            "Estadísticas descriptivas para clientes con alta reclamación y baja CLV:\n",
            "       total_claim_amount  customer_lifetime_value\n",
            "count           40.000000                40.000000\n",
            "mean           723.300000            341577.425000\n",
            "std            149.216449             56921.466178\n",
            "min            537.000000            228759.000000\n",
            "25%            632.750000            304220.500000\n",
            "50%            685.000000            365995.000000\n",
            "75%            799.000000            387364.000000\n",
            "max           1185.000000            402381.000000\n"
          ]
        }
      ],
      "source": [
        "import pandas as pd\n",
        "\n",
        "# Cargar el DataFrame limpio\n",
        "df_cleaned = pd.read_csv('cleaned_data.csv')\n",
        "\n",
        "# Revisar estadísticas descriptivas para total_claim_amount y customer_lifetime_value\n",
        "print(\"Estadísticas descriptivas para 'total_claim_amount':\")\n",
        "print(df_cleaned['total_claim_amount'].describe())\n",
        "\n",
        "print(\"\\nEstadísticas descriptivas para 'customer_lifetime_value':\")\n",
        "print(df_cleaned['customer_lifetime_value'].describe())\n",
        "\n",
        "# Calcular los percentiles necesarios\n",
        "total_claim_amount_75th = df_cleaned['total_claim_amount'].quantile(0.75)\n",
        "customer_lifetime_value_25th = df_cleaned['customer_lifetime_value'].quantile(0.25)\n",
        "\n",
        "# Filtrar clientes\n",
        "high_claim_low_clv = df_cleaned[\n",
        "    (df_cleaned['total_claim_amount'] > total_claim_amount_75th) &\n",
        "    (df_cleaned['customer_lifetime_value'] < customer_lifetime_value_25th)\n",
        "]\n",
        "\n",
        "# Obtener estadísticas descriptivas para los clientes con alta reclamación y baja CLV\n",
        "print(\"\\nEstadísticas descriptivas para clientes con alta reclamación y baja CLV:\")\n",
        "print(high_claim_low_clv[['total_claim_amount', 'customer_lifetime_value']].describe())"
      ]
    }
  ],
  "metadata": {
    "colab": {
      "provenance": []
    },
    "kernelspec": {
      "display_name": "Python 3 (ipykernel)",
      "language": "python",
      "name": "python3"
    },
    "language_info": {
      "codemirror_mode": {
        "name": "ipython",
        "version": 3
      },
      "file_extension": ".py",
      "mimetype": "text/x-python",
      "name": "python",
      "nbconvert_exporter": "python",
      "pygments_lexer": "ipython3",
      "version": "3.12.4"
    }
  },
  "nbformat": 4,
  "nbformat_minor": 5
}
